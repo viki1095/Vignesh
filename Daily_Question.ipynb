{
 "cells": [
  {
   "cell_type": "markdown",
   "metadata": {},
   "source": [
    "# 1.Turn this every item of a list into its square.\n",
    "# a=[1,2,3,4,5,6,7]"
   ]
  },
  {
   "cell_type": "code",
   "execution_count": 5,
   "metadata": {},
   "outputs": [
    {
     "name": "stdout",
     "output_type": "stream",
     "text": [
      "[1, 4, 9, 16, 25, 36, 49]\n"
     ]
    }
   ],
   "source": [
    "a=[1,2,3,4,5,6,7]\n",
    "b=[]\n",
    "for i in a:\n",
    "    a1=i**2\n",
    "    b.append(a1)\n",
    "print(b)"
   ]
  },
  {
   "cell_type": "markdown",
   "metadata": {},
   "source": [
    "# Concatenate two lists in the following order\n",
    "# list1=[\"Hello\", \"Hi\"]\n",
    "# list2=[\"Divya\", \"Sam\"]\n",
    "# output--->['Hello Divya', 'Hello Sam', 'Hi Divya', 'Hi Sam']"
   ]
  },
  {
   "cell_type": "code",
   "execution_count": 17,
   "metadata": {},
   "outputs": [
    {
     "name": "stdout",
     "output_type": "stream",
     "text": [
      "['Hello Divya', 'Hello Sam', 'Hi Divya', 'Hi Sam']\n"
     ]
    }
   ],
   "source": [
    "list1=[\"Hello\", \"Hi\"]\n",
    "list2=[\" Divya\", \" Sam\"]\n",
    "list3=[i+ j for i in list1 for j in list2]\n",
    "print(list3)\n"
   ]
  },
  {
   "cell_type": "markdown",
   "metadata": {},
   "source": [
    "# 2.Write a program to print the following pattern.\n",
    "# 1\n",
    "# 1 2\n",
    "# 1 2 3\n",
    "# 1 2 3 4\n",
    "# 1 2 3 4 5"
   ]
  },
  {
   "cell_type": "code",
   "execution_count": 1,
   "metadata": {},
   "outputs": [
    {
     "name": "stdout",
     "output_type": "stream",
     "text": [
      "1 \n",
      "1 2 \n",
      "1 2 3 \n",
      "1 2 3 4 \n",
      "1 2 3 4 5 \n"
     ]
    }
   ],
   "source": [
    "row=5\n",
    "for row in range(1,row+1):\n",
    "    for col in range(1,row+1):\n",
    "        print(col,end=\" \")\n",
    "    print()"
   ]
  },
  {
   "cell_type": "markdown",
   "metadata": {},
   "source": [
    "#   Write a program that accepts a word from user and reverse it using for loop"
   ]
  },
  {
   "cell_type": "code",
   "execution_count": 6,
   "metadata": {},
   "outputs": [
    {
     "name": "stdout",
     "output_type": "stream",
     "text": [
      "Enter the word: reversed\n",
      "desrever\n"
     ]
    }
   ],
   "source": [
    "word=input(\"Enter the word: \")\n",
    "reversed=\"\"\n",
    "for i in word:\n",
    "    reversed= i + reversed\n",
    "print(reversed)"
   ]
  },
  {
   "cell_type": "code",
   "execution_count": 7,
   "metadata": {},
   "outputs": [
    {
     "name": "stdout",
     "output_type": "stream",
     "text": [
      "nohtyp\n"
     ]
    }
   ],
   "source": [
    "def reverse_word(x):\n",
    "    return x[::-1]\n",
    "word= reverse_word(\"python\")\n",
    "print(word)"
   ]
  },
  {
   "cell_type": "code",
   "execution_count": null,
   "metadata": {},
   "outputs": [],
   "source": []
  }
 ],
 "metadata": {
  "kernelspec": {
   "display_name": "Python 3",
   "language": "python",
   "name": "python3"
  },
  "language_info": {
   "codemirror_mode": {
    "name": "ipython",
    "version": 3
   },
   "file_extension": ".py",
   "mimetype": "text/x-python",
   "name": "python",
   "nbconvert_exporter": "python",
   "pygments_lexer": "ipython3",
   "version": "3.8.3"
  }
 },
 "nbformat": 4,
 "nbformat_minor": 4
}
